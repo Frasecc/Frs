{
 "cells": [
  {
   "cell_type": "markdown",
   "metadata": {},
   "source": [
    "### **2.  Operazioni su array**\n",
    "Crea un array **a**, 2D (senza digitarlo esplicitamente), e genera due nuovi array **b**, contenente la sua 2ª e 4ª riga, e **c** contenente solo la 3ª.  Dividi ogni colonna dell'array a, elemento per elemento, con l'array c."
   ]
  },
  {
   "cell_type": "code",
   "execution_count": 1,
   "metadata": {},
   "outputs": [
    {
     "name": "stdout",
     "output_type": "stream",
     "text": [
      "Array a:\n",
      " [[ 0  1  2]\n",
      " [ 3  4  5]\n",
      " [ 6  7  8]\n",
      " [ 9 10 11]\n",
      " [12 13 14]]\n",
      "Array b (2ª e 4ª riga):\n",
      " [[ 3  4  5]\n",
      " [ 9 10 11]]\n",
      "Array c (3ª riga):\n",
      " [6 7 8]\n",
      "Divisione a / c:\n",
      " [[0.         0.14285714 0.25      ]\n",
      " [0.5        0.57142857 0.625     ]\n",
      " [1.         1.         1.        ]\n",
      " [1.5        1.42857143 1.375     ]\n",
      " [2.         1.85714286 1.75      ]]\n"
     ]
    }
   ],
   "source": [
    "import numpy as np\n",
    "\n",
    "# 1. Crea un array a\n",
    "a = np.arange(15).reshape(5, 3)\n",
    "print(\"Array a:\\n\", a)\n",
    "\n",
    "# 2. Array b con la seconda e la quarta riga di a\n",
    "b = a[1:4:2,]\n",
    "print(\"Array b (2ª e 4ª riga):\\n\", b)\n",
    "\n",
    "# 3. Array c con la terza riga di a\n",
    "c = a[2,]\n",
    "print(\"Array c (3ª riga):\\n\", c)\n",
    "\n",
    "# 4. Divisione\n",
    "print(\"Divisione a / c:\\n\", a/c)"
   ]
  }
 ],
 "metadata": {
  "kernelspec": {
   "display_name": "base",
   "language": "python",
   "name": "python3"
  },
  "language_info": {
   "codemirror_mode": {
    "name": "ipython",
    "version": 3
   },
   "file_extension": ".py",
   "mimetype": "text/x-python",
   "name": "python",
   "nbconvert_exporter": "python",
   "pygments_lexer": "ipython3",
   "version": "3.12.3"
  }
 },
 "nbformat": 4,
 "nbformat_minor": 2
}
